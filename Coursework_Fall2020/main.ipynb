{
 "cells": [
  {
   "cell_type": "code",
   "execution_count": null,
   "metadata": {},
   "outputs": [],
   "source": [
    "import numpy as np\n",
    "import pandas as pd\n",
    "import seaborn as sns\n",
    "import matplotlib.pyplot as plt\n",
    "\n",
    "from sklearn.model_selection import train_test_split\n",
    "import tensorflow as tf\n",
    "from tensorflow.keras.preprocessing.text import Tokenizer\n",
    "from tensorflow.keras.preprocessing.sequence import pad_sequences \n",
    "from tensorflow.keras.callbacks import EarlyStopping\n",
    "from tensorflow.keras.models import Sequential\n",
    "from tensorflow.keras.layers import Embedding, GlobalAveragePooling1D, Dense, Dropout"
   ]
  },
  {
   "cell_type": "code",
   "execution_count": null,
   "metadata": {},
   "outputs": [],
   "source": [
    "# read data from file\n",
    "mes_type, mes = [], []\n",
    "with open('SMSSpamCollection') as f:\n",
    "    lines = f.readlines()\n",
    "    for line in lines:\n",
    "        res = line.split(\"\\t\", 1)\n",
    "        mes_type.append(res[0])\n",
    "        mes.append(res[1].replace('\\n', ''))"
   ]
  },
  {
   "cell_type": "code",
   "execution_count": null,
   "metadata": {},
   "outputs": [],
   "source": [
    "messages = pd.DataFrame(list(zip(mes_type, mes)), columns=['label', 'message'])\n",
    "messages.describe()"
   ]
  },
  {
   "cell_type": "code",
   "execution_count": null,
   "metadata": {},
   "outputs": [],
   "source": [
    "spam_mes = messages[messages.label=='spam']\n",
    "notspam_mes = messages[messages.label=='ham']"
   ]
  },
  {
   "cell_type": "code",
   "execution_count": null,
   "metadata": {},
   "outputs": [],
   "source": [
    "# balance data\n",
    "notspam_mes_balanced = notspam_mes.sample(n = len(spam_mes))\n",
    "spam_mes_balanced = spam_mes\n",
    "print(notspam_mes_balanced.shape, spam_mes_balanced.shape)"
   ]
  },
  {
   "cell_type": "code",
   "execution_count": null,
   "metadata": {},
   "outputs": [],
   "source": [
    "mes_df = notspam_mes_balanced.append(spam_mes_balanced).reset_index(drop=True)\n",
    "mes_df['text_length'] = mes_df['message'].apply(len)\n",
    "mes_df['msg_type']= mes_df['label'].map({'ham': 0, 'spam': 1})\n",
    "mes_label = mes_df['msg_type'].values\n",
    "train_mes, test_mes, train_labels, test_labels = train_test_split(mes_df['message'], mes_label, test_size=0.2)"
   ]
  },
  {
   "cell_type": "code",
   "execution_count": null,
   "metadata": {},
   "outputs": [],
   "source": [
    "tokenizer = Tokenizer(num_words = 500, char_level=False, oov_token = \"<OOV>\")\n",
    "tokenizer.fit_on_texts(train_mes)"
   ]
  },
  {
   "cell_type": "code",
   "execution_count": null,
   "metadata": {},
   "outputs": [],
   "source": [
    "trunc_type = \"post\" \n",
    "padding_type = \"post\" \n",
    "max_len = 50\n",
    "\n",
    "training_sequences = tokenizer.texts_to_sequences(train_mes)\n",
    "training_padded = pad_sequences (training_sequences, maxlen = max_len, padding = padding_type, truncating = trunc_type)\n",
    "testing_sequences = tokenizer.texts_to_sequences(test_mes)\n",
    "testing_padded = pad_sequences(testing_sequences, maxlen = max_len,padding = padding_type, truncating = trunc_type)"
   ]
  },
  {
   "cell_type": "code",
   "execution_count": null,
   "metadata": {},
   "outputs": [],
   "source": [
    "vocab_size = 500\n",
    "embeding_dim = 16\n",
    "drop_value = 0.2\n",
    "n_dense = 24\n",
    "\n",
    "model = Sequential()\n",
    "model.add(Embedding(vocab_size, embeding_dim, input_length=max_len))\n",
    "model.add(GlobalAveragePooling1D())\n",
    "model.add(Dense(24, activation='relu'))\n",
    "model.add(Dropout(drop_value))\n",
    "model.add(Dense(1, activation='sigmoid'))"
   ]
  },
  {
   "cell_type": "code",
   "execution_count": null,
   "metadata": {},
   "outputs": [],
   "source": [
    "model.compile(loss='binary_crossentropy',optimizer='adam' ,metrics=['accuracy'])"
   ]
  },
  {
   "cell_type": "code",
   "execution_count": null,
   "metadata": {},
   "outputs": [],
   "source": [
    "num_epochs = 30\n",
    "early_stop = EarlyStopping(monitor='val_loss', patience=3)\n",
    "history = model.fit(training_padded, train_labels, epochs=num_epochs, validation_data=(testing_padded, test_labels),callbacks =[early_stop], verbose=2)"
   ]
  },
  {
   "cell_type": "code",
   "execution_count": null,
   "metadata": {},
   "outputs": [],
   "source": [
    "model.evaluate(testing_padded, test_labels)"
   ]
  },
  {
   "cell_type": "code",
   "execution_count": null,
   "metadata": {},
   "outputs": [],
   "source": [
    "metrics = pd.DataFrame(history.history)\n",
    "metrics.rename(columns = {'loss': 'Обучающая выборка', 'accuracy': 'Training_Accuracy', 'val_loss': 'Тестовая выборка', 'val_accuracy': 'Validation_Accuracy'}, inplace = True)\n",
    "\n",
    "metrics[['Обучающая выборка', 'Тестовая выборка']].plot()\n",
    "plt.title('Функция ошибки')\n",
    "plt.xlabel ('Количество прогонок')\n",
    "plt.ylabel('Ошибка')"
   ]
  },
  {
   "cell_type": "code",
   "execution_count": null,
   "metadata": {},
   "outputs": [],
   "source": [
    "def predict_spam(custom_message):\n",
    "    new_seq = tokenizer.texts_to_sequences(custom_message)\n",
    "    padded = pad_sequences(new_seq, maxlen =max_len,padding = padding_type,truncating=trunc_type)\n",
    "    return 'Spam Probability: ' + str((model.predict(padded)[0, 0])*100)+'%'"
   ]
  },
  {
   "cell_type": "code",
   "execution_count": null,
   "metadata": {},
   "outputs": [],
   "source": [
    "test_messages = [[\"Hi, Harry. I'm busy at the moment. Studying calculus. Call me later\"],\n",
    "                [\"I don't really think I can attend the show\"],\n",
    "                [\"Almost free Dominos pizza on Tuesdays. 2 for the price of 1. Call 777888\"],\n",
    "                [\"Want to have a lot of cash almost for free? Follow the link\"]]\n",
    "\n",
    "for message in test_messages:\n",
    "    print(predict_spam(message))"
   ]
  },
  {
   "cell_type": "code",
   "execution_count": null,
   "metadata": {},
   "outputs": [],
   "source": []
  }
 ],
 "metadata": {
  "kernelspec": {
   "display_name": "Python 3",
   "language": "python",
   "name": "python3"
  },
  "language_info": {
   "codemirror_mode": {
    "name": "ipython",
    "version": 3
   },
   "file_extension": ".py",
   "mimetype": "text/x-python",
   "name": "python",
   "nbconvert_exporter": "python",
   "pygments_lexer": "ipython3",
   "version": "3.8.5"
  }
 },
 "nbformat": 4,
 "nbformat_minor": 4
}
